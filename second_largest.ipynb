{
  "nbformat": 4,
  "nbformat_minor": 0,
  "metadata": {
    "colab": {
      "provenance": [],
      "include_colab_link": true
    },
    "kernelspec": {
      "name": "python3",
      "display_name": "Python 3"
    },
    "language_info": {
      "name": "python"
    }
  },
  "cells": [
    {
      "cell_type": "markdown",
      "metadata": {
        "id": "view-in-github",
        "colab_type": "text"
      },
      "source": [
        "<a href=\"https://colab.research.google.com/github/shaymaa-nabil/AUC-Fundamentals-of-Data-Science-II-Spring-2023/blob/main/second_largest.ipynb\" target=\"_parent\"><img src=\"https://colab.research.google.com/assets/colab-badge.svg\" alt=\"Open In Colab\"/></a>"
      ]
    },
    {
      "cell_type": "code",
      "execution_count": 2,
      "metadata": {
        "colab": {
          "base_uri": "https://localhost:8080/"
        },
        "id": "U-QgYsRgip9X",
        "outputId": "4a0ba77c-637f-4f8a-8bb1-6ae6dfca6fa7"
      },
      "outputs": [
        {
          "output_type": "execute_result",
          "data": {
            "text/plain": [
              "[2, 3, 5, 4, 1, 9, 8, 6]"
            ]
          },
          "metadata": {},
          "execution_count": 2
        }
      ],
      "source": [
        "numbers = [2, 3, 5, 4, 1, 9, 8, 6]\n",
        "numbers"
      ]
    },
    {
      "cell_type": "code",
      "source": [
        "max=0\n",
        "sec_largest=0\n",
        "for i in numbers:\n",
        "  if i>max:\n",
        "    max=i \n",
        "for i in numbers:\n",
        "  if i>sec_largest and i!=max:\n",
        "    sec_largest=i\n",
        "\n",
        "\n",
        "  "
      ],
      "metadata": {
        "id": "KRPUy__xi6PN"
      },
      "execution_count": 7,
      "outputs": []
    },
    {
      "cell_type": "code",
      "source": [
        "sec_largest"
      ],
      "metadata": {
        "id": "oHUBuzSuVynJ",
        "outputId": "06baca0f-bebc-40bd-a685-45342266323e",
        "colab": {
          "base_uri": "https://localhost:8080/"
        }
      },
      "execution_count": 8,
      "outputs": [
        {
          "output_type": "execute_result",
          "data": {
            "text/plain": [
              "8"
            ]
          },
          "metadata": {},
          "execution_count": 8
        }
      ]
    },
    {
      "cell_type": "code",
      "source": [
        "max"
      ],
      "metadata": {
        "id": "T9VrOlxuUcjr",
        "outputId": "dad420ea-1639-4e71-bb1d-0ef18bea1356",
        "colab": {
          "base_uri": "https://localhost:8080/"
        }
      },
      "execution_count": 6,
      "outputs": [
        {
          "output_type": "execute_result",
          "data": {
            "text/plain": [
              "9"
            ]
          },
          "metadata": {},
          "execution_count": 6
        }
      ]
    }
  ]
}