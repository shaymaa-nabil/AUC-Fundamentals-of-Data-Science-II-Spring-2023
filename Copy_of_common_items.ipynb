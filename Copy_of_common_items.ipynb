{
  "nbformat": 4,
  "nbformat_minor": 0,
  "metadata": {
    "colab": {
      "provenance": [],
      "include_colab_link": true
    },
    "kernelspec": {
      "name": "python3",
      "display_name": "Python 3"
    },
    "language_info": {
      "name": "python"
    }
  },
  "cells": [
    {
      "cell_type": "markdown",
      "metadata": {
        "id": "view-in-github",
        "colab_type": "text"
      },
      "source": [
        "<a href=\"https://colab.research.google.com/github/shaymaa-nabil/AUC-Fundamentals-of-Data-Science-II-Spring-2023/blob/main/Copy_of_common_items.ipynb\" target=\"_parent\"><img src=\"https://colab.research.google.com/assets/colab-badge.svg\" alt=\"Open In Colab\"/></a>"
      ]
    },
    {
      "cell_type": "code",
      "execution_count": 3,
      "metadata": {
        "colab": {
          "base_uri": "https://localhost:8080/"
        },
        "id": "RHnGNqtDf_7q",
        "outputId": "ddeeb6fa-b2ea-41be-bd69-214da0de5476"
      },
      "outputs": [
        {
          "output_type": "execute_result",
          "data": {
            "text/plain": [
              "[1, 2, 3, 3, 4, 5, 6]"
            ]
          },
          "metadata": {},
          "execution_count": 3
        }
      ],
      "source": [
        "list1 = [1,2, 3, 3, 4, 5, 6]\n",
        "list1"
      ]
    },
    {
      "cell_type": "code",
      "source": [
        "list2 = [3, 4, 5, 6, 7, 8]\n",
        "list2"
      ],
      "metadata": {
        "colab": {
          "base_uri": "https://localhost:8080/"
        },
        "id": "ZUmb2y0wgODK",
        "outputId": "af9a896b-8ff1-49a3-e9a1-cb4b2ba71a17"
      },
      "execution_count": 4,
      "outputs": [
        {
          "output_type": "execute_result",
          "data": {
            "text/plain": [
              "[3, 4, 5, 6, 7, 8]"
            ]
          },
          "metadata": {},
          "execution_count": 4
        }
      ]
    },
    {
      "cell_type": "code",
      "source": [
        "def common_items(list1,list2):\n",
        "  list_common=[]\n",
        "  for i in list1:\n",
        "    for j in list2:\n",
        "      if i==j and i not in list_common:\n",
        "        list_common.append(i) \n",
        "  return(list_common)"
      ],
      "metadata": {
        "id": "MkvakZz4gS-5"
      },
      "execution_count": 8,
      "outputs": []
    },
    {
      "cell_type": "code",
      "source": [
        "common_items(list1,list2)"
      ],
      "metadata": {
        "colab": {
          "base_uri": "https://localhost:8080/"
        },
        "id": "NNTbKZZupzx3",
        "outputId": "de16c2d9-0927-40b2-8769-22895f3699d0"
      },
      "execution_count": 9,
      "outputs": [
        {
          "output_type": "execute_result",
          "data": {
            "text/plain": [
              "[3, 4, 5, 6]"
            ]
          },
          "metadata": {},
          "execution_count": 9
        }
      ]
    }
  ]
}