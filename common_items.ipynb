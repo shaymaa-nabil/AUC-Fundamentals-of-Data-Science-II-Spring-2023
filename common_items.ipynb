{
  "nbformat": 4,
  "nbformat_minor": 0,
  "metadata": {
    "colab": {
      "provenance": [],
      "include_colab_link": true
    },
    "kernelspec": {
      "name": "python3",
      "display_name": "Python 3"
    },
    "language_info": {
      "name": "python"
    }
  },
  "cells": [
    {
      "cell_type": "markdown",
      "metadata": {
        "id": "view-in-github",
        "colab_type": "text"
      },
      "source": [
        "<a href=\"https://colab.research.google.com/github/shaymaa-nabil/AUC-Fundamentals-of-Data-Science-II-Spring-2023/blob/main/common_items.ipynb\" target=\"_parent\"><img src=\"https://colab.research.google.com/assets/colab-badge.svg\" alt=\"Open In Colab\"/></a>"
      ]
    },
    {
      "cell_type": "code",
      "execution_count": 4,
      "metadata": {
        "colab": {
          "base_uri": "https://localhost:8080/"
        },
        "id": "RHnGNqtDf_7q",
        "outputId": "9b95738b-f1e7-4481-a990-816db4ea4f93"
      },
      "outputs": [
        {
          "output_type": "execute_result",
          "data": {
            "text/plain": [
              "[1, 2, 3, 4, 5, 6]"
            ]
          },
          "metadata": {},
          "execution_count": 4
        }
      ],
      "source": [
        "list1 = [1, 2, 3, 4, 5, 6]\n",
        "list1"
      ]
    },
    {
      "cell_type": "code",
      "source": [
        "list2 = [3, 4, 5, 6, 7, 8]\n",
        "list2"
      ],
      "metadata": {
        "colab": {
          "base_uri": "https://localhost:8080/"
        },
        "id": "ZUmb2y0wgODK",
        "outputId": "497a08e9-e282-4769-ba99-a171a12e732a"
      },
      "execution_count": 5,
      "outputs": [
        {
          "output_type": "execute_result",
          "data": {
            "text/plain": [
              "[3, 4, 5, 6, 7, 8]"
            ]
          },
          "metadata": {},
          "execution_count": 5
        }
      ]
    },
    {
      "cell_type": "code",
      "source": [
        "def common_items(list1,list2):\n",
        "  list_common=[]\n",
        "  for i in list1:\n",
        "    for j in list2:\n",
        "      if i==j:\n",
        "        list_common.append(i) \n",
        "  return(list_common)"
      ],
      "metadata": {
        "id": "MkvakZz4gS-5"
      },
      "execution_count": 17,
      "outputs": []
    },
    {
      "cell_type": "code",
      "source": [
        "common_items(list1,list2)"
      ],
      "metadata": {
        "id": "NNTbKZZupzx3",
        "outputId": "305f1e53-b1d5-4d8d-c6a1-e38cc2b4932f",
        "colab": {
          "base_uri": "https://localhost:8080/"
        }
      },
      "execution_count": 18,
      "outputs": [
        {
          "output_type": "execute_result",
          "data": {
            "text/plain": [
              "[3, 4, 5, 6]"
            ]
          },
          "metadata": {},
          "execution_count": 18
        }
      ]
    }
  ]
}